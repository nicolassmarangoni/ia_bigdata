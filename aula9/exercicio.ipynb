{
 "cells": [
  {
   "cell_type": "code",
   "execution_count": 1,
   "metadata": {},
   "outputs": [],
   "source": [
    "import pandas as pd\n",
    "import matplotlib.pyplot as plt\n",
    "import seaborn as sns\n",
    "import plotly.express as px"
   ]
  },
  {
   "cell_type": "code",
   "execution_count": 2,
   "metadata": {},
   "outputs": [],
   "source": [
    "url_clientes = \"https://raw.githubusercontent.com/alura-cursos/ia-datascience-dataviz/main/dados/zoop_clientes.csv\"\n",
    "\n",
    "url_vendas = \"https://raw.githubusercontent.com/alura-cursos/ia-datascience-dataviz/main/dados/zoop_vendas.csv\""
   ]
  },
  {
   "cell_type": "code",
   "execution_count": 3,
   "metadata": {},
   "outputs": [
    {
     "data": {
      "text/html": [
       "<div>\n",
       "<style scoped>\n",
       "    .dataframe tbody tr th:only-of-type {\n",
       "        vertical-align: middle;\n",
       "    }\n",
       "\n",
       "    .dataframe tbody tr th {\n",
       "        vertical-align: top;\n",
       "    }\n",
       "\n",
       "    .dataframe thead th {\n",
       "        text-align: right;\n",
       "    }\n",
       "</style>\n",
       "<table border=\"1\" class=\"dataframe\">\n",
       "  <thead>\n",
       "    <tr style=\"text-align: right;\">\n",
       "      <th></th>\n",
       "      <th>ID_compra</th>\n",
       "      <th>ID_cliente</th>\n",
       "      <th>cidade</th>\n",
       "      <th>uf</th>\n",
       "      <th>regiao</th>\n",
       "      <th>idade</th>\n",
       "      <th>sexo_biologico</th>\n",
       "      <th>cashback</th>\n",
       "      <th>avaliacao_compra</th>\n",
       "    </tr>\n",
       "  </thead>\n",
       "  <tbody>\n",
       "    <tr>\n",
       "      <th>0</th>\n",
       "      <td>904</td>\n",
       "      <td>8972</td>\n",
       "      <td>Natal</td>\n",
       "      <td>Rio Grande do Norte</td>\n",
       "      <td>Nordeste</td>\n",
       "      <td>49</td>\n",
       "      <td>Masculino</td>\n",
       "      <td>Não</td>\n",
       "      <td>9</td>\n",
       "    </tr>\n",
       "    <tr>\n",
       "      <th>1</th>\n",
       "      <td>4613</td>\n",
       "      <td>5120</td>\n",
       "      <td>São Paulo</td>\n",
       "      <td>São Paulo</td>\n",
       "      <td>Sudeste</td>\n",
       "      <td>49</td>\n",
       "      <td>Feminino</td>\n",
       "      <td>Não</td>\n",
       "      <td>9</td>\n",
       "    </tr>\n",
       "    <tr>\n",
       "      <th>2</th>\n",
       "      <td>5579</td>\n",
       "      <td>1847</td>\n",
       "      <td>São Paulo</td>\n",
       "      <td>São Paulo</td>\n",
       "      <td>Sudeste</td>\n",
       "      <td>24</td>\n",
       "      <td>Feminino</td>\n",
       "      <td>Não</td>\n",
       "      <td>8</td>\n",
       "    </tr>\n",
       "    <tr>\n",
       "      <th>3</th>\n",
       "      <td>2405</td>\n",
       "      <td>2846</td>\n",
       "      <td>São Paulo</td>\n",
       "      <td>São Paulo</td>\n",
       "      <td>Sudeste</td>\n",
       "      <td>38</td>\n",
       "      <td>Feminino</td>\n",
       "      <td>Sim</td>\n",
       "      <td>7</td>\n",
       "    </tr>\n",
       "    <tr>\n",
       "      <th>4</th>\n",
       "      <td>2485</td>\n",
       "      <td>2715</td>\n",
       "      <td>Salvador</td>\n",
       "      <td>Bahia</td>\n",
       "      <td>Nordeste</td>\n",
       "      <td>30</td>\n",
       "      <td>Feminino</td>\n",
       "      <td>Não</td>\n",
       "      <td>10</td>\n",
       "    </tr>\n",
       "  </tbody>\n",
       "</table>\n",
       "</div>"
      ],
      "text/plain": [
       "   ID_compra  ID_cliente     cidade                   uf    regiao  idade  \\\n",
       "0        904        8972      Natal  Rio Grande do Norte  Nordeste     49   \n",
       "1       4613        5120  São Paulo            São Paulo   Sudeste     49   \n",
       "2       5579        1847  São Paulo            São Paulo   Sudeste     24   \n",
       "3       2405        2846  São Paulo            São Paulo   Sudeste     38   \n",
       "4       2485        2715   Salvador                Bahia  Nordeste     30   \n",
       "\n",
       "  sexo_biologico cashback  avaliacao_compra  \n",
       "0      Masculino      Não                 9  \n",
       "1       Feminino      Não                 9  \n",
       "2       Feminino      Não                 8  \n",
       "3       Feminino      Sim                 7  \n",
       "4       Feminino      Não                10  "
      ]
     },
     "execution_count": 3,
     "metadata": {},
     "output_type": "execute_result"
    }
   ],
   "source": [
    "clientes = pd.read_csv(url_clientes)\n",
    "\n",
    "clientes.head()"
   ]
  },
  {
   "cell_type": "code",
   "execution_count": 4,
   "metadata": {},
   "outputs": [
    {
     "data": {
      "text/html": [
       "<div>\n",
       "<style scoped>\n",
       "    .dataframe tbody tr th:only-of-type {\n",
       "        vertical-align: middle;\n",
       "    }\n",
       "\n",
       "    .dataframe tbody tr th {\n",
       "        vertical-align: top;\n",
       "    }\n",
       "\n",
       "    .dataframe thead th {\n",
       "        text-align: right;\n",
       "    }\n",
       "</style>\n",
       "<table border=\"1\" class=\"dataframe\">\n",
       "  <thead>\n",
       "    <tr style=\"text-align: right;\">\n",
       "      <th></th>\n",
       "      <th>ID_compra</th>\n",
       "      <th>data</th>\n",
       "      <th>horario</th>\n",
       "      <th>categoria</th>\n",
       "      <th>preco_unitario</th>\n",
       "      <th>quantidade</th>\n",
       "      <th>frete</th>\n",
       "      <th>metodo_pagamento</th>\n",
       "    </tr>\n",
       "  </thead>\n",
       "  <tbody>\n",
       "    <tr>\n",
       "      <th>0</th>\n",
       "      <td>6</td>\n",
       "      <td>2023-01-03</td>\n",
       "      <td>20:40</td>\n",
       "      <td>Eletrônicos</td>\n",
       "      <td>4457.9</td>\n",
       "      <td>4</td>\n",
       "      <td>713.26</td>\n",
       "      <td>Boleto</td>\n",
       "    </tr>\n",
       "    <tr>\n",
       "      <th>1</th>\n",
       "      <td>5</td>\n",
       "      <td>2023-01-03</td>\n",
       "      <td>21:48</td>\n",
       "      <td>Ferramentas e construção</td>\n",
       "      <td>115.9</td>\n",
       "      <td>1</td>\n",
       "      <td>0.00</td>\n",
       "      <td>PIX</td>\n",
       "    </tr>\n",
       "    <tr>\n",
       "      <th>2</th>\n",
       "      <td>9</td>\n",
       "      <td>2023-01-03</td>\n",
       "      <td>17:08</td>\n",
       "      <td>Beleza e cuidados pessoais</td>\n",
       "      <td>68.9</td>\n",
       "      <td>2</td>\n",
       "      <td>13.78</td>\n",
       "      <td>Cartão de Crédito</td>\n",
       "    </tr>\n",
       "    <tr>\n",
       "      <th>3</th>\n",
       "      <td>4</td>\n",
       "      <td>2023-01-03</td>\n",
       "      <td>14:29</td>\n",
       "      <td>Ferramentas e construção</td>\n",
       "      <td>80.9</td>\n",
       "      <td>5</td>\n",
       "      <td>40.45</td>\n",
       "      <td>PIX</td>\n",
       "    </tr>\n",
       "    <tr>\n",
       "      <th>4</th>\n",
       "      <td>8</td>\n",
       "      <td>2023-01-03</td>\n",
       "      <td>18:02</td>\n",
       "      <td>Beleza e cuidados pessoais</td>\n",
       "      <td>165.0</td>\n",
       "      <td>4</td>\n",
       "      <td>0.00</td>\n",
       "      <td>PIX</td>\n",
       "    </tr>\n",
       "  </tbody>\n",
       "</table>\n",
       "</div>"
      ],
      "text/plain": [
       "   ID_compra        data horario                   categoria  preco_unitario  \\\n",
       "0          6  2023-01-03   20:40                 Eletrônicos          4457.9   \n",
       "1          5  2023-01-03   21:48    Ferramentas e construção           115.9   \n",
       "2          9  2023-01-03   17:08  Beleza e cuidados pessoais            68.9   \n",
       "3          4  2023-01-03   14:29    Ferramentas e construção            80.9   \n",
       "4          8  2023-01-03   18:02  Beleza e cuidados pessoais           165.0   \n",
       "\n",
       "   quantidade   frete   metodo_pagamento  \n",
       "0           4  713.26             Boleto  \n",
       "1           1    0.00                PIX  \n",
       "2           2   13.78  Cartão de Crédito  \n",
       "3           5   40.45                PIX  \n",
       "4           4    0.00                PIX  "
      ]
     },
     "execution_count": 4,
     "metadata": {},
     "output_type": "execute_result"
    }
   ],
   "source": [
    "vendas = pd.read_csv(url_vendas)\n",
    "\n",
    "vendas.head()"
   ]
  },
  {
   "cell_type": "code",
   "execution_count": 5,
   "metadata": {},
   "outputs": [
    {
     "name": "stdout",
     "output_type": "stream",
     "text": [
      "<class 'pandas.core.frame.DataFrame'>\n",
      "RangeIndex: 6169 entries, 0 to 6168\n",
      "Data columns (total 9 columns):\n",
      " #   Column            Non-Null Count  Dtype \n",
      "---  ------            --------------  ----- \n",
      " 0   ID_compra         6169 non-null   int64 \n",
      " 1   ID_cliente        6169 non-null   int64 \n",
      " 2   cidade            6169 non-null   object\n",
      " 3   uf                6169 non-null   object\n",
      " 4   regiao            6169 non-null   object\n",
      " 5   idade             6169 non-null   int64 \n",
      " 6   sexo_biologico    6169 non-null   object\n",
      " 7   cashback          6169 non-null   object\n",
      " 8   avaliacao_compra  6169 non-null   int64 \n",
      "dtypes: int64(4), object(5)\n",
      "memory usage: 433.9+ KB\n"
     ]
    }
   ],
   "source": [
    "clientes.info()"
   ]
  },
  {
   "cell_type": "code",
   "execution_count": 6,
   "metadata": {},
   "outputs": [
    {
     "data": {
      "text/html": [
       "<div>\n",
       "<style scoped>\n",
       "    .dataframe tbody tr th:only-of-type {\n",
       "        vertical-align: middle;\n",
       "    }\n",
       "\n",
       "    .dataframe tbody tr th {\n",
       "        vertical-align: top;\n",
       "    }\n",
       "\n",
       "    .dataframe thead th {\n",
       "        text-align: right;\n",
       "    }\n",
       "</style>\n",
       "<table border=\"1\" class=\"dataframe\">\n",
       "  <thead>\n",
       "    <tr style=\"text-align: right;\">\n",
       "      <th></th>\n",
       "      <th>ID_compra</th>\n",
       "      <th>ID_cliente</th>\n",
       "      <th>idade</th>\n",
       "      <th>avaliacao_compra</th>\n",
       "    </tr>\n",
       "  </thead>\n",
       "  <tbody>\n",
       "    <tr>\n",
       "      <th>count</th>\n",
       "      <td>6169.000000</td>\n",
       "      <td>6169.000000</td>\n",
       "      <td>6169.000000</td>\n",
       "      <td>6169.000000</td>\n",
       "    </tr>\n",
       "    <tr>\n",
       "      <th>mean</th>\n",
       "      <td>3085.000000</td>\n",
       "      <td>5461.475280</td>\n",
       "      <td>38.260010</td>\n",
       "      <td>8.443670</td>\n",
       "    </tr>\n",
       "    <tr>\n",
       "      <th>std</th>\n",
       "      <td>1780.981237</td>\n",
       "      <td>2610.959977</td>\n",
       "      <td>9.838951</td>\n",
       "      <td>1.730584</td>\n",
       "    </tr>\n",
       "    <tr>\n",
       "      <th>min</th>\n",
       "      <td>1.000000</td>\n",
       "      <td>1005.000000</td>\n",
       "      <td>18.000000</td>\n",
       "      <td>0.000000</td>\n",
       "    </tr>\n",
       "    <tr>\n",
       "      <th>25%</th>\n",
       "      <td>1543.000000</td>\n",
       "      <td>3148.000000</td>\n",
       "      <td>31.000000</td>\n",
       "      <td>8.000000</td>\n",
       "    </tr>\n",
       "    <tr>\n",
       "      <th>50%</th>\n",
       "      <td>3085.000000</td>\n",
       "      <td>5436.000000</td>\n",
       "      <td>38.000000</td>\n",
       "      <td>9.000000</td>\n",
       "    </tr>\n",
       "    <tr>\n",
       "      <th>75%</th>\n",
       "      <td>4627.000000</td>\n",
       "      <td>7748.000000</td>\n",
       "      <td>45.000000</td>\n",
       "      <td>9.000000</td>\n",
       "    </tr>\n",
       "    <tr>\n",
       "      <th>max</th>\n",
       "      <td>6169.000000</td>\n",
       "      <td>9999.000000</td>\n",
       "      <td>70.000000</td>\n",
       "      <td>10.000000</td>\n",
       "    </tr>\n",
       "  </tbody>\n",
       "</table>\n",
       "</div>"
      ],
      "text/plain": [
       "         ID_compra   ID_cliente        idade  avaliacao_compra\n",
       "count  6169.000000  6169.000000  6169.000000       6169.000000\n",
       "mean   3085.000000  5461.475280    38.260010          8.443670\n",
       "std    1780.981237  2610.959977     9.838951          1.730584\n",
       "min       1.000000  1005.000000    18.000000          0.000000\n",
       "25%    1543.000000  3148.000000    31.000000          8.000000\n",
       "50%    3085.000000  5436.000000    38.000000          9.000000\n",
       "75%    4627.000000  7748.000000    45.000000          9.000000\n",
       "max    6169.000000  9999.000000    70.000000         10.000000"
      ]
     },
     "execution_count": 6,
     "metadata": {},
     "output_type": "execute_result"
    }
   ],
   "source": [
    "clientes.describe()\n"
   ]
  },
  {
   "cell_type": "code",
   "execution_count": 7,
   "metadata": {},
   "outputs": [
    {
     "data": {
      "text/plain": [
       "sexo_biologico\n",
       "Feminino     3371\n",
       "Masculino    2798\n",
       "Name: count, dtype: int64"
      ]
     },
     "execution_count": 7,
     "metadata": {},
     "output_type": "execute_result"
    }
   ],
   "source": [
    "clientes['sexo_biologico'].value_counts()"
   ]
  },
  {
   "cell_type": "code",
   "execution_count": 8,
   "metadata": {},
   "outputs": [
    {
     "data": {
      "text/plain": [
       "38.2600097260496"
      ]
     },
     "execution_count": 8,
     "metadata": {},
     "output_type": "execute_result"
    }
   ],
   "source": [
    "clientes['idade'].mean()"
   ]
  },
  {
   "cell_type": "code",
   "execution_count": 9,
   "metadata": {},
   "outputs": [
    {
     "data": {
      "text/plain": [
       "regiao\n",
       "Sudeste         2666\n",
       "Nordeste        1882\n",
       "Sul              819\n",
       "Centro-Oeste     495\n",
       "Norte            307\n",
       "Name: count, dtype: int64"
      ]
     },
     "execution_count": 9,
     "metadata": {},
     "output_type": "execute_result"
    }
   ],
   "source": [
    "clientes['regiao'].value_counts()"
   ]
  },
  {
   "cell_type": "code",
   "execution_count": 10,
   "metadata": {},
   "outputs": [
    {
     "data": {
      "text/plain": [
       "8.44366996271681"
      ]
     },
     "execution_count": 10,
     "metadata": {},
     "output_type": "execute_result"
    }
   ],
   "source": [
    "clientes['avaliacao_compra'].mean()"
   ]
  },
  {
   "cell_type": "code",
   "execution_count": 11,
   "metadata": {},
   "outputs": [
    {
     "data": {
      "text/plain": [
       "cashback\n",
       "Não    3557\n",
       "Sim    2612\n",
       "Name: count, dtype: int64"
      ]
     },
     "execution_count": 11,
     "metadata": {},
     "output_type": "execute_result"
    }
   ],
   "source": [
    "clientes['cashback'].value_counts()"
   ]
  },
  {
   "cell_type": "code",
   "execution_count": 12,
   "metadata": {},
   "outputs": [
    {
     "name": "stdout",
     "output_type": "stream",
     "text": [
      "<class 'pandas.core.frame.DataFrame'>\n",
      "RangeIndex: 6169 entries, 0 to 6168\n",
      "Data columns (total 8 columns):\n",
      " #   Column            Non-Null Count  Dtype  \n",
      "---  ------            --------------  -----  \n",
      " 0   ID_compra         6169 non-null   int64  \n",
      " 1   data              6169 non-null   object \n",
      " 2   horario           6169 non-null   object \n",
      " 3   categoria         6169 non-null   object \n",
      " 4   preco_unitario    6169 non-null   float64\n",
      " 5   quantidade        6169 non-null   int64  \n",
      " 6   frete             6169 non-null   float64\n",
      " 7   metodo_pagamento  6169 non-null   object \n",
      "dtypes: float64(2), int64(2), object(4)\n",
      "memory usage: 385.7+ KB\n"
     ]
    }
   ],
   "source": [
    "vendas.info()"
   ]
  },
  {
   "cell_type": "code",
   "execution_count": 13,
   "metadata": {},
   "outputs": [],
   "source": [
    "vendas[\"data\"] = pd.to_datetime(vendas[\"data\"], format=\"%Y-%m-%d\")"
   ]
  },
  {
   "cell_type": "code",
   "execution_count": 14,
   "metadata": {},
   "outputs": [
    {
     "name": "stdout",
     "output_type": "stream",
     "text": [
      "<class 'pandas.core.frame.DataFrame'>\n",
      "RangeIndex: 6169 entries, 0 to 6168\n",
      "Data columns (total 8 columns):\n",
      " #   Column            Non-Null Count  Dtype         \n",
      "---  ------            --------------  -----         \n",
      " 0   ID_compra         6169 non-null   int64         \n",
      " 1   data              6169 non-null   datetime64[ns]\n",
      " 2   horario           6169 non-null   object        \n",
      " 3   categoria         6169 non-null   object        \n",
      " 4   preco_unitario    6169 non-null   float64       \n",
      " 5   quantidade        6169 non-null   int64         \n",
      " 6   frete             6169 non-null   float64       \n",
      " 7   metodo_pagamento  6169 non-null   object        \n",
      "dtypes: datetime64[ns](1), float64(2), int64(2), object(3)\n",
      "memory usage: 385.7+ KB\n"
     ]
    }
   ],
   "source": [
    "vendas.info()"
   ]
  },
  {
   "cell_type": "code",
   "execution_count": 15,
   "metadata": {},
   "outputs": [
    {
     "data": {
      "text/plain": [
       "categoria\n",
       "Alimentos e bebidas           1495\n",
       "Beleza e cuidados pessoais    1062\n",
       "Casa e limpeza                1041\n",
       "Eletrodomésticos               665\n",
       "Eletrônicos                    580\n",
       "Papelaria e escritório         551\n",
       "Ferramentas e construção       474\n",
       "Livros                         301\n",
       "Name: count, dtype: int64"
      ]
     },
     "execution_count": 15,
     "metadata": {},
     "output_type": "execute_result"
    }
   ],
   "source": [
    "vendas['categoria'].value_counts()"
   ]
  },
  {
   "cell_type": "code",
   "execution_count": 16,
   "metadata": {},
   "outputs": [
    {
     "data": {
      "text/plain": [
       "873.2347382071648"
      ]
     },
     "execution_count": 16,
     "metadata": {},
     "output_type": "execute_result"
    }
   ],
   "source": [
    "vendas['preco_unitario'].mean()"
   ]
  },
  {
   "cell_type": "code",
   "execution_count": 17,
   "metadata": {},
   "outputs": [
    {
     "data": {
      "text/plain": [
       "18537"
      ]
     },
     "execution_count": 17,
     "metadata": {},
     "output_type": "execute_result"
    }
   ],
   "source": [
    "# Quantidade total de produtos vendidos\n",
    "vendas['quantidade'].sum()"
   ]
  },
  {
   "cell_type": "code",
   "execution_count": 18,
   "metadata": {},
   "outputs": [
    {
     "data": {
      "text/plain": [
       "735553.51"
      ]
     },
     "execution_count": 18,
     "metadata": {},
     "output_type": "execute_result"
    }
   ],
   "source": [
    "# Valor total do frete arrecadado\n",
    "vendas['frete'].sum()"
   ]
  },
  {
   "cell_type": "code",
   "execution_count": 19,
   "metadata": {},
   "outputs": [
    {
     "data": {
      "text/plain": [
       "metodo_pagamento\n",
       "Cartão de Crédito    2851\n",
       "PIX                  2244\n",
       "Cartão de Débito      547\n",
       "Boleto                527\n",
       "Name: count, dtype: int64"
      ]
     },
     "execution_count": 19,
     "metadata": {},
     "output_type": "execute_result"
    }
   ],
   "source": [
    "# Métodos de pagamento utilizados e suas frequências\n",
    "vendas['metodo_pagamento'].value_counts()"
   ]
  },
  {
   "cell_type": "code",
   "execution_count": 20,
   "metadata": {},
   "outputs": [],
   "source": [
    "\n",
    "#unindo as duas base de dados \"clientes\" e \"vendas\"\n",
    "#como as duas base de dados obtêm a colua \"ID compra\", faremos essa junção por meio dessa coluna\n",
    "df = pd.merge(vendas, clientes, on='ID_compra')"
   ]
  },
  {
   "cell_type": "code",
   "execution_count": 21,
   "metadata": {},
   "outputs": [],
   "source": [
    "# Organizando as colunas na sequência desejada\n",
    "colunas_organizadas = [\n",
    "    \"ID_compra\", \"data\", \"horario\", \"categoria\", \"preco_unitario\",\n",
    "    \"quantidade\", \"frete\", \"metodo_pagamento\", \"ID_cliente\", \"idade\",\n",
    "    \"sexo_biologico\", \"cidade\", \"uf\", \"regiao\", \"cashback\", \"avaliacao_compra\"\n",
    "]\n",
    "\n",
    "df = df[colunas_organizadas]"
   ]
  },
  {
   "cell_type": "code",
   "execution_count": 22,
   "metadata": {},
   "outputs": [
    {
     "data": {
      "text/html": [
       "<div>\n",
       "<style scoped>\n",
       "    .dataframe tbody tr th:only-of-type {\n",
       "        vertical-align: middle;\n",
       "    }\n",
       "\n",
       "    .dataframe tbody tr th {\n",
       "        vertical-align: top;\n",
       "    }\n",
       "\n",
       "    .dataframe thead th {\n",
       "        text-align: right;\n",
       "    }\n",
       "</style>\n",
       "<table border=\"1\" class=\"dataframe\">\n",
       "  <thead>\n",
       "    <tr style=\"text-align: right;\">\n",
       "      <th></th>\n",
       "      <th>ID_compra</th>\n",
       "      <th>data</th>\n",
       "      <th>horario</th>\n",
       "      <th>categoria</th>\n",
       "      <th>preco_unitario</th>\n",
       "      <th>quantidade</th>\n",
       "      <th>frete</th>\n",
       "      <th>metodo_pagamento</th>\n",
       "      <th>ID_cliente</th>\n",
       "      <th>idade</th>\n",
       "      <th>sexo_biologico</th>\n",
       "      <th>cidade</th>\n",
       "      <th>uf</th>\n",
       "      <th>regiao</th>\n",
       "      <th>cashback</th>\n",
       "      <th>avaliacao_compra</th>\n",
       "    </tr>\n",
       "  </thead>\n",
       "  <tbody>\n",
       "    <tr>\n",
       "      <th>0</th>\n",
       "      <td>6</td>\n",
       "      <td>2023-01-03</td>\n",
       "      <td>20:40</td>\n",
       "      <td>Eletrônicos</td>\n",
       "      <td>4457.9</td>\n",
       "      <td>4</td>\n",
       "      <td>713.26</td>\n",
       "      <td>Boleto</td>\n",
       "      <td>6149</td>\n",
       "      <td>30</td>\n",
       "      <td>Masculino</td>\n",
       "      <td>Porto Alegre</td>\n",
       "      <td>Rio Grande do Sul</td>\n",
       "      <td>Sul</td>\n",
       "      <td>Sim</td>\n",
       "      <td>10</td>\n",
       "    </tr>\n",
       "    <tr>\n",
       "      <th>1</th>\n",
       "      <td>5</td>\n",
       "      <td>2023-01-03</td>\n",
       "      <td>21:48</td>\n",
       "      <td>Ferramentas e construção</td>\n",
       "      <td>115.9</td>\n",
       "      <td>1</td>\n",
       "      <td>0.00</td>\n",
       "      <td>PIX</td>\n",
       "      <td>9491</td>\n",
       "      <td>36</td>\n",
       "      <td>Masculino</td>\n",
       "      <td>São Paulo</td>\n",
       "      <td>São Paulo</td>\n",
       "      <td>Sudeste</td>\n",
       "      <td>Sim</td>\n",
       "      <td>8</td>\n",
       "    </tr>\n",
       "    <tr>\n",
       "      <th>2</th>\n",
       "      <td>9</td>\n",
       "      <td>2023-01-03</td>\n",
       "      <td>17:08</td>\n",
       "      <td>Beleza e cuidados pessoais</td>\n",
       "      <td>68.9</td>\n",
       "      <td>2</td>\n",
       "      <td>13.78</td>\n",
       "      <td>Cartão de Crédito</td>\n",
       "      <td>5288</td>\n",
       "      <td>39</td>\n",
       "      <td>Feminino</td>\n",
       "      <td>Porto Velho</td>\n",
       "      <td>Rondônia</td>\n",
       "      <td>Norte</td>\n",
       "      <td>Não</td>\n",
       "      <td>7</td>\n",
       "    </tr>\n",
       "    <tr>\n",
       "      <th>3</th>\n",
       "      <td>4</td>\n",
       "      <td>2023-01-03</td>\n",
       "      <td>14:29</td>\n",
       "      <td>Ferramentas e construção</td>\n",
       "      <td>80.9</td>\n",
       "      <td>5</td>\n",
       "      <td>40.45</td>\n",
       "      <td>PIX</td>\n",
       "      <td>9679</td>\n",
       "      <td>35</td>\n",
       "      <td>Masculino</td>\n",
       "      <td>Recife</td>\n",
       "      <td>Pernambuco</td>\n",
       "      <td>Nordeste</td>\n",
       "      <td>Sim</td>\n",
       "      <td>9</td>\n",
       "    </tr>\n",
       "    <tr>\n",
       "      <th>4</th>\n",
       "      <td>8</td>\n",
       "      <td>2023-01-03</td>\n",
       "      <td>18:02</td>\n",
       "      <td>Beleza e cuidados pessoais</td>\n",
       "      <td>165.0</td>\n",
       "      <td>4</td>\n",
       "      <td>0.00</td>\n",
       "      <td>PIX</td>\n",
       "      <td>1380</td>\n",
       "      <td>50</td>\n",
       "      <td>Masculino</td>\n",
       "      <td>São Paulo</td>\n",
       "      <td>São Paulo</td>\n",
       "      <td>Sudeste</td>\n",
       "      <td>Não</td>\n",
       "      <td>9</td>\n",
       "    </tr>\n",
       "  </tbody>\n",
       "</table>\n",
       "</div>"
      ],
      "text/plain": [
       "   ID_compra       data horario                   categoria  preco_unitario  \\\n",
       "0          6 2023-01-03   20:40                 Eletrônicos          4457.9   \n",
       "1          5 2023-01-03   21:48    Ferramentas e construção           115.9   \n",
       "2          9 2023-01-03   17:08  Beleza e cuidados pessoais            68.9   \n",
       "3          4 2023-01-03   14:29    Ferramentas e construção            80.9   \n",
       "4          8 2023-01-03   18:02  Beleza e cuidados pessoais           165.0   \n",
       "\n",
       "   quantidade   frete   metodo_pagamento  ID_cliente  idade sexo_biologico  \\\n",
       "0           4  713.26             Boleto        6149     30      Masculino   \n",
       "1           1    0.00                PIX        9491     36      Masculino   \n",
       "2           2   13.78  Cartão de Crédito        5288     39       Feminino   \n",
       "3           5   40.45                PIX        9679     35      Masculino   \n",
       "4           4    0.00                PIX        1380     50      Masculino   \n",
       "\n",
       "         cidade                 uf    regiao cashback  avaliacao_compra  \n",
       "0  Porto Alegre  Rio Grande do Sul       Sul      Sim                10  \n",
       "1     São Paulo          São Paulo   Sudeste      Sim                 8  \n",
       "2   Porto Velho           Rondônia     Norte      Não                 7  \n",
       "3        Recife         Pernambuco  Nordeste      Sim                 9  \n",
       "4     São Paulo          São Paulo   Sudeste      Não                 9  "
      ]
     },
     "execution_count": 22,
     "metadata": {},
     "output_type": "execute_result"
    }
   ],
   "source": [
    "#verificação do DataFrame\n",
    "df.head()"
   ]
  },
  {
   "cell_type": "code",
   "execution_count": 23,
   "metadata": {},
   "outputs": [
    {
     "name": "stdout",
     "output_type": "stream",
     "text": [
      "Tabela 'metodos_de_pagamento':\n",
      "  Metodo de Pagamento  Quantidade\n",
      "0   Cartão de Crédito        2851\n",
      "1                 PIX        2244\n",
      "2    Cartão de Débito         547\n",
      "3              Boleto         527\n"
     ]
    },
    {
     "data": {
      "image/png": "[encoded data removed]",
      "text/plain": [
       "<Figure size 1200x800 with 1 Axes>"
      ]
     },
     "metadata": {},
     "output_type": "display_data"
    }
   ],
   "source": [
    "# Criar a tabela \"metodos_de_pagamento\"\n",
    "metodos_de_pagamento = df['metodo_pagamento'].value_counts().reset_index()\n",
    "metodos_de_pagamento.columns = ['Metodo de Pagamento', 'Quantidade']\n",
    "\n",
    "# Visualização\n",
    "plt.figure(figsize=(12, 8))\n",
    "plt.bar(metodos_de_pagamento['Metodo de Pagamento'], metodos_de_pagamento['Quantidade'], color='skyblue')\n",
    "plt.title('Quantidade de Métodos de Pagamento Utilizados')\n",
    "plt.xlabel('Método de Pagamento')\n",
    "plt.ylabel('Quantidade')\n",
    "plt.xticks(rotation=0, ha='center')\n",
    "\n",
    "# Exibir a tabela\n",
    "print(\"Tabela 'metodos_de_pagamento':\")\n",
    "print(metodos_de_pagamento)\n",
    "\n",
    "# Exibir o gráfico\n",
    "plt.show()"
   ]
  },
  {
   "cell_type": "code",
   "execution_count": 24,
   "metadata": {},
   "outputs": [],
   "source": [
    "# Criar a tabela \"metodos_de_pagamento\"\n",
    "metodos_de_pagamento = df['metodo_pagamento'].value_counts().reset_index()\n",
    "metodos_de_pagamento.columns = ['Metodo de Pagamento', 'Quantidade']"
   ]
  },
  {
   "cell_type": "code",
   "execution_count": 25,
   "metadata": {},
   "outputs": [
    {
     "data": {
      "image/png": "[encoded data removed]",
      "text/plain": [
       "<Figure size 1200x800 with 1 Axes>"
      ]
     },
     "metadata": {},
     "output_type": "display_data"
    }
   ],
   "source": [
    "# Visualização\n",
    "plt.figure(figsize=(12, 8))\n",
    "plt.bar(metodos_de_pagamento['Metodo de Pagamento'], metodos_de_pagamento['Quantidade'], color='skyblue')\n",
    "plt.title('Quantidade de Métodos de Pagamento Utilizados')\n",
    "plt.xlabel('Método de Pagamento')\n",
    "plt.ylabel('Quantidade')\n",
    "plt.xticks(rotation=0, ha='center')\n",
    "\n",
    "# Exibir o gráfico\n",
    "plt.show()"
   ]
  },
  {
   "cell_type": "code",
   "execution_count": 26,
   "metadata": {},
   "outputs": [],
   "source": [
    "df['faturamento'] = (df['preco_unitario']*df['quantidade'])+df['frete']\n"
   ]
  },
  {
   "cell_type": "code",
   "execution_count": 27,
   "metadata": {},
   "outputs": [
    {
     "data": {
      "text/html": [
       "<div>\n",
       "<style scoped>\n",
       "    .dataframe tbody tr th:only-of-type {\n",
       "        vertical-align: middle;\n",
       "    }\n",
       "\n",
       "    .dataframe tbody tr th {\n",
       "        vertical-align: top;\n",
       "    }\n",
       "\n",
       "    .dataframe thead th {\n",
       "        text-align: right;\n",
       "    }\n",
       "</style>\n",
       "<table border=\"1\" class=\"dataframe\">\n",
       "  <thead>\n",
       "    <tr style=\"text-align: right;\">\n",
       "      <th></th>\n",
       "      <th>ID_compra</th>\n",
       "      <th>data</th>\n",
       "      <th>horario</th>\n",
       "      <th>categoria</th>\n",
       "      <th>preco_unitario</th>\n",
       "      <th>quantidade</th>\n",
       "      <th>frete</th>\n",
       "      <th>metodo_pagamento</th>\n",
       "      <th>ID_cliente</th>\n",
       "      <th>idade</th>\n",
       "      <th>sexo_biologico</th>\n",
       "      <th>cidade</th>\n",
       "      <th>uf</th>\n",
       "      <th>regiao</th>\n",
       "      <th>cashback</th>\n",
       "      <th>avaliacao_compra</th>\n",
       "      <th>faturamento</th>\n",
       "    </tr>\n",
       "  </thead>\n",
       "  <tbody>\n",
       "    <tr>\n",
       "      <th>0</th>\n",
       "      <td>6</td>\n",
       "      <td>2023-01-03</td>\n",
       "      <td>20:40</td>\n",
       "      <td>Eletrônicos</td>\n",
       "      <td>4457.9</td>\n",
       "      <td>4</td>\n",
       "      <td>713.26</td>\n",
       "      <td>Boleto</td>\n",
       "      <td>6149</td>\n",
       "      <td>30</td>\n",
       "      <td>Masculino</td>\n",
       "      <td>Porto Alegre</td>\n",
       "      <td>Rio Grande do Sul</td>\n",
       "      <td>Sul</td>\n",
       "      <td>Sim</td>\n",
       "      <td>10</td>\n",
       "      <td>18544.86</td>\n",
       "    </tr>\n",
       "    <tr>\n",
       "      <th>1</th>\n",
       "      <td>5</td>\n",
       "      <td>2023-01-03</td>\n",
       "      <td>21:48</td>\n",
       "      <td>Ferramentas e construção</td>\n",
       "      <td>115.9</td>\n",
       "      <td>1</td>\n",
       "      <td>0.00</td>\n",
       "      <td>PIX</td>\n",
       "      <td>9491</td>\n",
       "      <td>36</td>\n",
       "      <td>Masculino</td>\n",
       "      <td>São Paulo</td>\n",
       "      <td>São Paulo</td>\n",
       "      <td>Sudeste</td>\n",
       "      <td>Sim</td>\n",
       "      <td>8</td>\n",
       "      <td>115.90</td>\n",
       "    </tr>\n",
       "    <tr>\n",
       "      <th>2</th>\n",
       "      <td>9</td>\n",
       "      <td>2023-01-03</td>\n",
       "      <td>17:08</td>\n",
       "      <td>Beleza e cuidados pessoais</td>\n",
       "      <td>68.9</td>\n",
       "      <td>2</td>\n",
       "      <td>13.78</td>\n",
       "      <td>Cartão de Crédito</td>\n",
       "      <td>5288</td>\n",
       "      <td>39</td>\n",
       "      <td>Feminino</td>\n",
       "      <td>Porto Velho</td>\n",
       "      <td>Rondônia</td>\n",
       "      <td>Norte</td>\n",
       "      <td>Não</td>\n",
       "      <td>7</td>\n",
       "      <td>151.58</td>\n",
       "    </tr>\n",
       "    <tr>\n",
       "      <th>3</th>\n",
       "      <td>4</td>\n",
       "      <td>2023-01-03</td>\n",
       "      <td>14:29</td>\n",
       "      <td>Ferramentas e construção</td>\n",
       "      <td>80.9</td>\n",
       "      <td>5</td>\n",
       "      <td>40.45</td>\n",
       "      <td>PIX</td>\n",
       "      <td>9679</td>\n",
       "      <td>35</td>\n",
       "      <td>Masculino</td>\n",
       "      <td>Recife</td>\n",
       "      <td>Pernambuco</td>\n",
       "      <td>Nordeste</td>\n",
       "      <td>Sim</td>\n",
       "      <td>9</td>\n",
       "      <td>444.95</td>\n",
       "    </tr>\n",
       "    <tr>\n",
       "      <th>4</th>\n",
       "      <td>8</td>\n",
       "      <td>2023-01-03</td>\n",
       "      <td>18:02</td>\n",
       "      <td>Beleza e cuidados pessoais</td>\n",
       "      <td>165.0</td>\n",
       "      <td>4</td>\n",
       "      <td>0.00</td>\n",
       "      <td>PIX</td>\n",
       "      <td>1380</td>\n",
       "      <td>50</td>\n",
       "      <td>Masculino</td>\n",
       "      <td>São Paulo</td>\n",
       "      <td>São Paulo</td>\n",
       "      <td>Sudeste</td>\n",
       "      <td>Não</td>\n",
       "      <td>9</td>\n",
       "      <td>660.00</td>\n",
       "    </tr>\n",
       "  </tbody>\n",
       "</table>\n",
       "</div>"
      ],
      "text/plain": [
       "   ID_compra       data horario                   categoria  preco_unitario  \\\n",
       "0          6 2023-01-03   20:40                 Eletrônicos          4457.9   \n",
       "1          5 2023-01-03   21:48    Ferramentas e construção           115.9   \n",
       "2          9 2023-01-03   17:08  Beleza e cuidados pessoais            68.9   \n",
       "3          4 2023-01-03   14:29    Ferramentas e construção            80.9   \n",
       "4          8 2023-01-03   18:02  Beleza e cuidados pessoais           165.0   \n",
       "\n",
       "   quantidade   frete   metodo_pagamento  ID_cliente  idade sexo_biologico  \\\n",
       "0           4  713.26             Boleto        6149     30      Masculino   \n",
       "1           1    0.00                PIX        9491     36      Masculino   \n",
       "2           2   13.78  Cartão de Crédito        5288     39       Feminino   \n",
       "3           5   40.45                PIX        9679     35      Masculino   \n",
       "4           4    0.00                PIX        1380     50      Masculino   \n",
       "\n",
       "         cidade                 uf    regiao cashback  avaliacao_compra  \\\n",
       "0  Porto Alegre  Rio Grande do Sul       Sul      Sim                10   \n",
       "1     São Paulo          São Paulo   Sudeste      Sim                 8   \n",
       "2   Porto Velho           Rondônia     Norte      Não                 7   \n",
       "3        Recife         Pernambuco  Nordeste      Sim                 9   \n",
       "4     São Paulo          São Paulo   Sudeste      Não                 9   \n",
       "\n",
       "   faturamento  \n",
       "0     18544.86  \n",
       "1       115.90  \n",
       "2       151.58  \n",
       "3       444.95  \n",
       "4       660.00  "
      ]
     },
     "execution_count": 27,
     "metadata": {},
     "output_type": "execute_result"
    }
   ],
   "source": [
    "df.head()"
   ]
  },
  {
   "cell_type": "code",
   "execution_count": 28,
   "metadata": {},
   "outputs": [
    {
     "data": {
      "image/png": "[encoded data removed]",
      "text/plain": [
       "<Figure size 1200x600 with 1 Axes>"
      ]
     },
     "metadata": {},
     "output_type": "display_data"
    }
   ],
   "source": [
    "# Dicionário de tradução de meses\n",
    "meses = {\n",
    "    'January': 'Jan',\n",
    "    'February': 'Fev',\n",
    "    'March': 'Mar',\n",
    "    'April': 'Abr',\n",
    "    'May': 'Mai',\n",
    "    'June': 'Jun',\n",
    "    'July': 'Jul',\n",
    "    'August': 'Ago',\n",
    "    'September': 'Set',\n",
    "    'October': 'Out',\n",
    "    'November': 'Nov',\n",
    "    'December': 'Dez'\n",
    "}\n",
    "\n",
    "# Agrupar por mês e calcular as vendas totais\n",
    "df['mes'] = df['data'].dt.strftime('%B')\n",
    "vendas_mensais = df.groupby('mes')['faturamento'].sum().reindex(meses.keys())\n",
    "\n",
    "# Configurações do gráfico\n",
    "plt.figure(figsize=(12, 6))\n",
    "plt.plot(vendas_mensais.index, vendas_mensais, marker='o', color='#1890FF', linewidth=2)\n",
    "\n",
    "# Adicionar rótulos e título\n",
    "plt.title('Vendas Totais Mensais da Zoop', fontsize=18, color='#555555')\n",
    "plt.xlabel('Mês', fontsize=12)\n",
    "plt.ylabel('Vendas', fontsize=12)\n",
    "\n",
    "# Alterar rótulos do eixo x utilizando o dicionário de tradução\n",
    "plt.xticks(vendas_mensais.index, [meses[mes] for mes in vendas_mensais.index], fontsize=10, color='#1890FF')\n",
    "\n",
    "# Exibir o gráfico\n",
    "plt.show()"
   ]
  },
  {
   "cell_type": "code",
   "execution_count": 29,
   "metadata": {},
   "outputs": [
    {
     "data": {
      "image/png": "[encoded data removed]",
      "text/plain": [
       "<Figure size 1200x800 with 1 Axes>"
      ]
     },
     "metadata": {},
     "output_type": "display_data"
    }
   ],
   "source": [
    "# Criar uma nova coluna para identificar o trimestre\n",
    "df['trimestre'] = df['data'].dt.to_period('Q')\n",
    "\n",
    "# Agrupar por trimestre e método de pagamento, somando o faturamento\n",
    "vendas_por_trimestre = df.groupby(['trimestre', 'metodo_pagamento'])['faturamento'].sum().unstack()\n",
    "\n",
    "# Visualização em gráfico de barras empilhadas\n",
    "vendas_por_trimestre.plot(kind='bar', stacked=True, figsize=(12, 8), colormap='viridis')\n",
    "\n",
    "plt.title('Vendas por Trimestre e Método de Pagamento')\n",
    "plt.xlabel('Trimestre')\n",
    "plt.ylabel('Vendas')\n",
    "plt.legend(title='Método de Pagamento')\n",
    "plt.xticks(rotation=0, ha='center')\n",
    "\n",
    "plt.show()"
   ]
  },
  {
   "cell_type": "code",
   "execution_count": 30,
   "metadata": {},
   "outputs": [
    {
     "data": {
      "image/png": "[encoded data removed]",
      "text/plain": [
       "<Figure size 600x600 with 1 Axes>"
      ]
     },
     "metadata": {},
     "output_type": "display_data"
    }
   ],
   "source": [
    "# Calcular a proporção de adesão ao cashback\n",
    "proporcao_cashback = df['cashback'].value_counts(normalize=True)\n",
    "\n",
    "# Cores invertidas\n",
    "cores_invertidas = ['orange', 'skyblue']\n",
    "\n",
    "# Visualização em gráfico de rosca (donut)\n",
    "plt.figure(figsize=(6, 6))\n",
    "plt.pie(proporcao_cashback, labels=proporcao_cashback.index, autopct='%1.1f%%', startangle=45, colors=cores_invertidas, wedgeprops=dict(width=0.4))\n",
    "plt.title('Proporção de Usuários Aderindo ao Cashback')\n",
    "\n",
    "plt.show()"
   ]
  },
  {
   "cell_type": "code",
   "execution_count": 31,
   "metadata": {},
   "outputs": [
    {
     "data": {
      "image/png": "[encoded data removed]",
      "text/plain": [
       "<Figure size 1200x800 with 1 Axes>"
      ]
     },
     "metadata": {},
     "output_type": "display_data"
    }
   ],
   "source": [
    "# Visualização em histograma\n",
    "plt.figure(figsize=(12, 8))\n",
    "plt.hist(df['avaliacao_compra'], bins=11, edgecolor='black', color='skyblue')\n",
    "plt.title('Distribuição das Avaliações de Compra')\n",
    "plt.xlabel('Avaliação')\n",
    "plt.ylabel('Frequência')\n",
    "plt.grid(axis='y', linestyle='--', alpha=0.7)\n",
    "\n",
    "plt.show()"
   ]
  },
  {
   "cell_type": "code",
   "execution_count": 32,
   "metadata": {},
   "outputs": [
    {
     "data": {
      "image/png": "[encoded data removed]",
      "text/plain": [
       "<Figure size 1000x600 with 1 Axes>"
      ]
     },
     "metadata": {},
     "output_type": "display_data"
    }
   ],
   "source": [
    "# Visualização em gráfico de barras empilhadas\n",
    "plt.figure(figsize=(10, 6))\n",
    "sns.histplot(data=df, x='idade', hue='sexo_biologico', multiple='stack', bins=20, palette='Set2',legend=True)\n",
    "plt.title('Distribuição do Público por Idade e Sexo Biológico')\n",
    "plt.xlabel('Idade')\n",
    "plt.ylabel('Contagem')\n",
    "plt.show()"
   ]
  },
  {
   "cell_type": "code",
   "execution_count": 33,
   "metadata": {},
   "outputs": [
    {
     "name": "stderr",
     "output_type": "stream",
     "text": [
      "C:\\Users\\dsadm\\AppData\\Local\\Temp\\ipykernel_25312\\2395225987.py:3: FutureWarning: \n",
      "\n",
      "Passing `palette` without assigning `hue` is deprecated and will be removed in v0.14.0. Assign the `x` variable to `hue` and set `legend=False` for the same effect.\n",
      "\n",
      "  sns.boxplot(data=df, x='sexo_biologico', y='idade', palette='pastel')\n"
     ]
    },
    {
     "data": {
      "image/png": "[encoded data removed]",
      "text/plain": [
       "<Figure size 1000x600 with 1 Axes>"
      ]
     },
     "metadata": {},
     "output_type": "display_data"
    }
   ],
   "source": [
    "# Visualização em boxplot\n",
    "plt.figure(figsize=(10, 6))\n",
    "sns.boxplot(data=df, x='sexo_biologico', y='idade', palette='pastel')\n",
    "plt.title('Distribuição da Idade por Sexo Biológico')\n",
    "plt.xlabel('Sexo Biológico')\n",
    "plt.ylabel('Idade')\n",
    "plt.show()"
   ]
  },
  {
   "cell_type": "code",
   "execution_count": 34,
   "metadata": {},
   "outputs": [
    {
     "data": {
      "application/vnd.plotly.v1+json": {
       "config": {
        "plotlyServerURL": "https://plot.ly"
       },
       "data": [
        {
         "branchvalues": "total",
         "customdata": [
          [
           "Norte"
          ],
          [
           "Sul"
          ],
          [
           "Norte"
          ],
          [
           "Sul"
          ],
          [
           "Nordeste"
          ],
          [
           "Norte"
          ],
          [
           "Nordeste"
          ],
          [
           "Sudeste"
          ],
          [
           "Nordeste"
          ],
          [
           "Norte"
          ],
          [
           "Sudeste"
          ],
          [
           "Centro-Oeste"
          ],
          [
           "Nordeste"
          ],
          [
           "Sul"
          ],
          [
           "Nordeste"
          ],
          [
           "Nordeste"
          ],
          [
           "Norte"
          ],
          [
           "Sudeste"
          ],
          [
           "Centro-Oeste"
          ],
          [
           "Sudeste"
          ],
          [
           "Centro-Oeste"
          ],
          [
           "Nordeste"
          ],
          [
           "Nordeste"
          ],
          [
           "Nordeste"
          ],
          [
           "Centro-Oeste"
          ],
          [
           "Norte"
          ],
          [
           "Norte"
          ]
         ],
         "domain": {
          "x": [
           0,
           1
          ],
          "y": [
           0,
           1
          ]
         },
         "hovertemplate": "labels=%{label}<br>faturamento=%{value}<br>parent=%{parent}<br>id=%{id}<br>regiao=%{customdata[0]}<extra></extra>",
         "ids": [
          "Pará",
          "Paraná",
          "Amazonas",
          "Santa Catarina",
          "Ceará",
          "Roraima",
          "Maranhão",
          "Minas Gerais",
          "Paraíba",
          "Amapá",
          "Rio de Janeiro",
          "Mato Grosso",
          "Sergipe",
          "Rio Grande do Sul",
          "Rio Grande do Norte",
          "Piauí",
          "Tocantins",
          "São Paulo",
          "Mato Grosso do Sul",
          "Espírito Santo",
          "Distrito Federal",
          "Bahia",
          "Alagoas",
          "Pernambuco",
          "Goiás",
          "Rondônia",
          "Acre"
         ],
         "labels": [
          "Pará",
          "Paraná",
          "Amazonas",
          "Santa Catarina",
          "Ceará",
          "Roraima",
          "Maranhão",
          "Minas Gerais",
          "Paraíba",
          "Amapá",
          "Rio de Janeiro",
          "Mato Grosso",
          "Sergipe",
          "Rio Grande do Sul",
          "Rio Grande do Norte",
          "Piauí",
          "Tocantins",
          "São Paulo",
          "Mato Grosso do Sul",
          "Espírito Santo",
          "Distrito Federal",
          "Bahia",
          "Alagoas",
          "Pernambuco",
          "Goiás",
          "Rondônia",
          "Acre"
         ],
         "marker": {
          "colors": [
           "#fdfcdc",
           "#f07167",
           "#fdfcdc",
           "#f07167",
           "#00afb9",
           "#fdfcdc",
           "#00afb9",
           "#fed9b7",
           "#00afb9",
           "#fdfcdc",
           "#fed9b7",
           "#0081a7",
           "#00afb9",
           "#f07167",
           "#00afb9",
           "#00afb9",
           "#fdfcdc",
           "#fed9b7",
           "#0081a7",
           "#fed9b7",
           "#0081a7",
           "#00afb9",
           "#00afb9",
           "#00afb9",
           "#0081a7",
           "#fdfcdc",
           "#fdfcdc"
          ]
         },
         "name": "",
         "parents": [
          "",
          "",
          "",
          "",
          "",
          "",
          "",
          "",
          "",
          "",
          "",
          "",
          "",
          "",
          "",
          "",
          "",
          "",
          "",
          "",
          "",
          "",
          "",
          "",
          "",
          "",
          ""
         ],
         "textinfo": "label+value",
         "type": "treemap",
         "values": [
          576832.87,
          1317884.94,
          72622.21,
          350391.6,
          752505.08,
          71984.42,
          90641.22,
          1084740.28,
          948365.49,
          138021.05000000002,
          1560518.09,
          205851.54,
          139341.05,
          786655.91,
          709089.22,
          185929.91,
          18863.27,
          3790390,
          76021.42,
          397610.14999999997,
          771016.5399999999,
          1200113.81,
          110480.39,
          1112592.94,
          340991.41,
          85832.58,
          83720.12
         ]
        }
       ],
       "layout": {
        "height": 600,
        "legend": {
         "tracegroupgap": 0
        },
        "margin": {
         "b": 0,
         "l": 0,
         "r": 0,
         "t": 25
        },
        "template": {
         "data": {
          "bar": [
           {
            "error_x": {
             "color": "#2a3f5f"
            },
            "error_y": {
             "color": "#2a3f5f"
            },
            "marker": {
             "line": {
              "color": "#E5ECF6",
              "width": 0.5
             },
             "pattern": {
              "fillmode": "overlay",
              "size": 10,
              "solidity": 0.2
             }
            },
            "type": "bar"
           }
          ],
          "barpolar": [
           {
            "marker": {
             "line": {
              "color": "#E5ECF6",
              "width": 0.5
             },
             "pattern": {
              "fillmode": "overlay",
              "size": 10,
              "solidity": 0.2
             }
            },
            "type": "barpolar"
           }
          ],
          "carpet": [
           {
            "aaxis": {
             "endlinecolor": "#2a3f5f",
             "gridcolor": "white",
             "linecolor": "white",
             "minorgridcolor": "white",
             "startlinecolor": "#2a3f5f"
            },
            "baxis": {
             "endlinecolor": "#2a3f5f",
             "gridcolor": "white",
             "linecolor": "white",
             "minorgridcolor": "white",
             "startlinecolor": "#2a3f5f"
            },
            "type": "carpet"
           }
          ],
          "choropleth": [
           {
            "colorbar": {
             "outlinewidth": 0,
             "ticks": ""
            },
            "type": "choropleth"
           }
          ],
          "contour": [
           {
            "colorbar": {
             "outlinewidth": 0,
             "ticks": ""
            },
            "colorscale": [
             [
              0,
              "#0d0887"
             ],
             [
              0.1111111111111111,
              "#46039f"
             ],
             [
              0.2222222222222222,
              "#7201a8"
             ],
             [
              0.3333333333333333,
              "#9c179e"
             ],
             [
              0.4444444444444444,
              "#bd3786"
             ],
             [
              0.5555555555555556,
              "#d8576b"
             ],
             [
              0.6666666666666666,
              "#ed7953"
             ],
             [
              0.7777777777777778,
              "#fb9f3a"
             ],
             [
              0.8888888888888888,
              "#fdca26"
             ],
             [
              1,
              "#f0f921"
             ]
            ],
            "type": "contour"
           }
          ],
          "contourcarpet": [
           {
            "colorbar": {
             "outlinewidth": 0,
             "ticks": ""
            },
            "type": "contourcarpet"
           }
          ],
          "heatmap": [
           {
            "colorbar": {
             "outlinewidth": 0,
             "ticks": ""
            },
            "colorscale": [
             [
              0,
              "#0d0887"
             ],
             [
              0.1111111111111111,
              "#46039f"
             ],
             [
              0.2222222222222222,
              "#7201a8"
             ],
             [
              0.3333333333333333,
              "#9c179e"
             ],
             [
              0.4444444444444444,
              "#bd3786"
             ],
             [
              0.5555555555555556,
              "#d8576b"
             ],
             [
              0.6666666666666666,
              "#ed7953"
             ],
             [
              0.7777777777777778,
              "#fb9f3a"
             ],
             [
              0.8888888888888888,
              "#fdca26"
             ],
             [
              1,
              "#f0f921"
             ]
            ],
            "type": "heatmap"
           }
          ],
          "heatmapgl": [
           {
            "colorbar": {
             "outlinewidth": 0,
             "ticks": ""
            },
            "colorscale": [
             [
              0,
              "#0d0887"
             ],
             [
              0.1111111111111111,
              "#46039f"
             ],
             [
              0.2222222222222222,
              "#7201a8"
             ],
             [
              0.3333333333333333,
              "#9c179e"
             ],
             [
              0.4444444444444444,
              "#bd3786"
             ],
             [
              0.5555555555555556,
              "#d8576b"
             ],
             [
              0.6666666666666666,
              "#ed7953"
             ],
             [
              0.7777777777777778,
              "#fb9f3a"
             ],
             [
              0.8888888888888888,
              "#fdca26"
             ],
             [
              1,
              "#f0f921"
             ]
            ],
            "type": "heatmapgl"
           }
          ],
          "histogram": [
           {
            "marker": {
             "pattern": {
              "fillmode": "overlay",
              "size": 10,
              "solidity": 0.2
             }
            },
            "type": "histogram"
           }
          ],
          "histogram2d": [
           {
            "colorbar": {
             "outlinewidth": 0,
             "ticks": ""
            },
            "colorscale": [
             [
              0,
              "#0d0887"
             ],
             [
              0.1111111111111111,
              "#46039f"
             ],
             [
              0.2222222222222222,
              "#7201a8"
             ],
             [
              0.3333333333333333,
              "#9c179e"
             ],
             [
              0.4444444444444444,
              "#bd3786"
             ],
             [
              0.5555555555555556,
              "#d8576b"
             ],
             [
              0.6666666666666666,
              "#ed7953"
             ],
             [
              0.7777777777777778,
              "#fb9f3a"
             ],
             [
              0.8888888888888888,
              "#fdca26"
             ],
             [
              1,
              "#f0f921"
             ]
            ],
            "type": "histogram2d"
           }
          ],
          "histogram2dcontour": [
           {
            "colorbar": {
             "outlinewidth": 0,
             "ticks": ""
            },
            "colorscale": [
             [
              0,
              "#0d0887"
             ],
             [
              0.1111111111111111,
              "#46039f"
             ],
             [
              0.2222222222222222,
              "#7201a8"
             ],
             [
              0.3333333333333333,
              "#9c179e"
             ],
             [
              0.4444444444444444,
              "#bd3786"
             ],
             [
              0.5555555555555556,
              "#d8576b"
             ],
             [
              0.6666666666666666,
              "#ed7953"
             ],
             [
              0.7777777777777778,
              "#fb9f3a"
             ],
             [
              0.8888888888888888,
              "#fdca26"
             ],
             [
              1,
              "#f0f921"
             ]
            ],
            "type": "histogram2dcontour"
           }
          ],
          "mesh3d": [
           {
            "colorbar": {
             "outlinewidth": 0,
             "ticks": ""
            },
            "type": "mesh3d"
           }
          ],
          "parcoords": [
           {
            "line": {
             "colorbar": {
              "outlinewidth": 0,
              "ticks": ""
             }
            },
            "type": "parcoords"
           }
          ],
          "pie": [
           {
            "automargin": true,
            "type": "pie"
           }
          ],
          "scatter": [
           {
            "fillpattern": {
             "fillmode": "overlay",
             "size": 10,
             "solidity": 0.2
            },
            "type": "scatter"
           }
          ],
          "scatter3d": [
           {
            "line": {
             "colorbar": {
              "outlinewidth": 0,
              "ticks": ""
             }
            },
            "marker": {
             "colorbar": {
              "outlinewidth": 0,
              "ticks": ""
             }
            },
            "type": "scatter3d"
           }
          ],
          "scattercarpet": [
           {
            "marker": {
             "colorbar": {
              "outlinewidth": 0,
              "ticks": ""
             }
            },
            "type": "scattercarpet"
           }
          ],
          "scattergeo": [
           {
            "marker": {
             "colorbar": {
              "outlinewidth": 0,
              "ticks": ""
             }
            },
            "type": "scattergeo"
           }
          ],
          "scattergl": [
           {
            "marker": {
             "colorbar": {
              "outlinewidth": 0,
              "ticks": ""
             }
            },
            "type": "scattergl"
           }
          ],
          "scattermapbox": [
           {
            "marker": {
             "colorbar": {
              "outlinewidth": 0,
              "ticks": ""
             }
            },
            "type": "scattermapbox"
           }
          ],
          "scatterpolar": [
           {
            "marker": {
             "colorbar": {
              "outlinewidth": 0,
              "ticks": ""
             }
            },
            "type": "scatterpolar"
           }
          ],
          "scatterpolargl": [
           {
            "marker": {
             "colorbar": {
              "outlinewidth": 0,
              "ticks": ""
             }
            },
            "type": "scatterpolargl"
           }
          ],
          "scatterternary": [
           {
            "marker": {
             "colorbar": {
              "outlinewidth": 0,
              "ticks": ""
             }
            },
            "type": "scatterternary"
           }
          ],
          "surface": [
           {
            "colorbar": {
             "outlinewidth": 0,
             "ticks": ""
            },
            "colorscale": [
             [
              0,
              "#0d0887"
             ],
             [
              0.1111111111111111,
              "#46039f"
             ],
             [
              0.2222222222222222,
              "#7201a8"
             ],
             [
              0.3333333333333333,
              "#9c179e"
             ],
             [
              0.4444444444444444,
              "#bd3786"
             ],
             [
              0.5555555555555556,
              "#d8576b"
             ],
             [
              0.6666666666666666,
              "#ed7953"
             ],
             [
              0.7777777777777778,
              "#fb9f3a"
             ],
             [
              0.8888888888888888,
              "#fdca26"
             ],
             [
              1,
              "#f0f921"
             ]
            ],
            "type": "surface"
           }
          ],
          "table": [
           {
            "cells": {
             "fill": {
              "color": "#EBF0F8"
             },
             "line": {
              "color": "white"
             }
            },
            "header": {
             "fill": {
              "color": "#C8D4E3"
             },
             "line": {
              "color": "white"
             }
            },
            "type": "table"
           }
          ]
         },
         "layout": {
          "annotationdefaults": {
           "arrowcolor": "#2a3f5f",
           "arrowhead": 0,
           "arrowwidth": 1
          },
          "autotypenumbers": "strict",
          "coloraxis": {
           "colorbar": {
            "outlinewidth": 0,
            "ticks": ""
           }
          },
          "colorscale": {
           "diverging": [
            [
             0,
             "#8e0152"
            ],
            [
             0.1,
             "#c51b7d"
            ],
            [
             0.2,
             "#de77ae"
            ],
            [
             0.3,
             "#f1b6da"
            ],
            [
             0.4,
             "#fde0ef"
            ],
            [
             0.5,
             "#f7f7f7"
            ],
            [
             0.6,
             "#e6f5d0"
            ],
            [
             0.7,
             "#b8e186"
            ],
            [
             0.8,
             "#7fbc41"
            ],
            [
             0.9,
             "#4d9221"
            ],
            [
             1,
             "#276419"
            ]
           ],
           "sequential": [
            [
             0,
             "#0d0887"
            ],
            [
             0.1111111111111111,
             "#46039f"
            ],
            [
             0.2222222222222222,
             "#7201a8"
            ],
            [
             0.3333333333333333,
             "#9c179e"
            ],
            [
             0.4444444444444444,
             "#bd3786"
            ],
            [
             0.5555555555555556,
             "#d8576b"
            ],
            [
             0.6666666666666666,
             "#ed7953"
            ],
            [
             0.7777777777777778,
             "#fb9f3a"
            ],
            [
             0.8888888888888888,
             "#fdca26"
            ],
            [
             1,
             "#f0f921"
            ]
           ],
           "sequentialminus": [
            [
             0,
             "#0d0887"
            ],
            [
             0.1111111111111111,
             "#46039f"
            ],
            [
             0.2222222222222222,
             "#7201a8"
            ],
            [
             0.3333333333333333,
             "#9c179e"
            ],
            [
             0.4444444444444444,
             "#bd3786"
            ],
            [
             0.5555555555555556,
             "#d8576b"
            ],
            [
             0.6666666666666666,
             "#ed7953"
            ],
            [
             0.7777777777777778,
             "#fb9f3a"
            ],
            [
             0.8888888888888888,
             "#fdca26"
            ],
            [
             1,
             "#f0f921"
            ]
           ]
          },
          "colorway": [
           "#636efa",
           "#EF553B",
           "#00cc96",
           "#ab63fa",
           "#FFA15A",
           "#19d3f3",
           "#FF6692",
           "#B6E880",
           "#FF97FF",
           "#FECB52"
          ],
          "font": {
           "color": "#2a3f5f"
          },
          "geo": {
           "bgcolor": "white",
           "lakecolor": "white",
           "landcolor": "#E5ECF6",
           "showlakes": true,
           "showland": true,
           "subunitcolor": "white"
          },
          "hoverlabel": {
           "align": "left"
          },
          "hovermode": "closest",
          "mapbox": {
           "style": "light"
          },
          "paper_bgcolor": "white",
          "plot_bgcolor": "#E5ECF6",
          "polar": {
           "angularaxis": {
            "gridcolor": "white",
            "linecolor": "white",
            "ticks": ""
           },
           "bgcolor": "#E5ECF6",
           "radialaxis": {
            "gridcolor": "white",
            "linecolor": "white",
            "ticks": ""
           }
          },
          "scene": {
           "xaxis": {
            "backgroundcolor": "#E5ECF6",
            "gridcolor": "white",
            "gridwidth": 2,
            "linecolor": "white",
            "showbackground": true,
            "ticks": "",
            "zerolinecolor": "white"
           },
           "yaxis": {
            "backgroundcolor": "#E5ECF6",
            "gridcolor": "white",
            "gridwidth": 2,
            "linecolor": "white",
            "showbackground": true,
            "ticks": "",
            "zerolinecolor": "white"
           },
           "zaxis": {
            "backgroundcolor": "#E5ECF6",
            "gridcolor": "white",
            "gridwidth": 2,
            "linecolor": "white",
            "showbackground": true,
            "ticks": "",
            "zerolinecolor": "white"
           }
          },
          "shapedefaults": {
           "line": {
            "color": "#2a3f5f"
           }
          },
          "ternary": {
           "aaxis": {
            "gridcolor": "white",
            "linecolor": "white",
            "ticks": ""
           },
           "baxis": {
            "gridcolor": "white",
            "linecolor": "white",
            "ticks": ""
           },
           "bgcolor": "#E5ECF6",
           "caxis": {
            "gridcolor": "white",
            "linecolor": "white",
            "ticks": ""
           }
          },
          "title": {
           "x": 0.05
          },
          "xaxis": {
           "automargin": true,
           "gridcolor": "white",
           "linecolor": "white",
           "ticks": "",
           "title": {
            "standoff": 15
           },
           "zerolinecolor": "white",
           "zerolinewidth": 2
          },
          "yaxis": {
           "automargin": true,
           "gridcolor": "white",
           "linecolor": "white",
           "ticks": "",
           "title": {
            "standoff": 15
           },
           "zerolinecolor": "white",
           "zerolinewidth": 2
          }
         }
        },
        "title": {
         "text": "Faturamento Total por Região e Estado"
        },
        "width": 1400
       }
      }
     },
     "metadata": {},
     "output_type": "display_data"
    }
   ],
   "source": [
    "# Filtrar as colunas desejadas\n",
    "vendas_2023 = df[['regiao', 'uf', 'faturamento']]\n",
    "\n",
    "# Criar o gráfico Treemap\n",
    "fig = px.treemap(vendas_2023, path=['uf'], values='faturamento', color='regiao',\n",
    "                color_discrete_map={'Centro-Oeste': '#0081a7',\n",
    "                                    'Nordeste': '#00afb9',\n",
    "                                    'Norte': '#fdfcdc',\n",
    "                                    'Sudeste': '#fed9b7',\n",
    "                                    'Sul': '#f07167'}\n",
    "                )\n",
    "\n",
    "# Atualizando o layout para adicionar título\n",
    "fig.update_layout(width=1400, height=600, title='Faturamento Total por Região e Estado',\n",
    "                   margin = dict(t=25, l=0, r=0, b=0))\n",
    "\n",
    "# Adicionar os valores dentro dos retângulos\n",
    "fig.update_traces(textinfo='label+value')\n",
    "\n",
    "# Exibir o gráfico\n",
    "fig.show()"
   ]
  },
  {
   "cell_type": "code",
   "execution_count": 35,
   "metadata": {},
   "outputs": [
    {
     "name": "stdout",
     "output_type": "stream",
     "text": [
      "Requirement already satisfied: nbformat==5.10.4 in c:\\python312\\lib\\site-packages (5.10.4)\n",
      "Requirement already satisfied: fastjsonschema>=2.15 in c:\\python312\\lib\\site-packages (from nbformat==5.10.4) (2.20.0)\n",
      "Requirement already satisfied: jsonschema>=2.6 in c:\\python312\\lib\\site-packages (from nbformat==5.10.4) (4.23.0)\n",
      "Requirement already satisfied: jupyter-core!=5.0.*,>=4.12 in c:\\users\\dsadm\\appdata\\roaming\\python\\python312\\site-packages (from nbformat==5.10.4) (5.5.0)\n",
      "Requirement already satisfied: traitlets>=5.1 in c:\\users\\dsadm\\appdata\\roaming\\python\\python312\\site-packages (from nbformat==5.10.4) (5.13.0)\n",
      "Requirement already satisfied: attrs>=22.2.0 in c:\\python312\\lib\\site-packages (from jsonschema>=2.6->nbformat==5.10.4) (24.2.0)\n",
      "Requirement already satisfied: jsonschema-specifications>=2023.03.6 in c:\\python312\\lib\\site-packages (from jsonschema>=2.6->nbformat==5.10.4) (2023.12.1)\n",
      "Requirement already satisfied: referencing>=0.28.4 in c:\\python312\\lib\\site-packages (from jsonschema>=2.6->nbformat==5.10.4) (0.35.1)\n",
      "Requirement already satisfied: rpds-py>=0.7.1 in c:\\python312\\lib\\site-packages (from jsonschema>=2.6->nbformat==5.10.4) (0.20.0)\n",
      "Requirement already satisfied: platformdirs>=2.5 in c:\\users\\dsadm\\appdata\\roaming\\python\\python312\\site-packages (from jupyter-core!=5.0.*,>=4.12->nbformat==5.10.4) (4.0.0)\n",
      "Requirement already satisfied: pywin32>=300 in c:\\users\\dsadm\\appdata\\roaming\\python\\python312\\site-packages (from jupyter-core!=5.0.*,>=4.12->nbformat==5.10.4) (306)\n",
      "Note: you may need to restart the kernel to use updated packages.\n"
     ]
    },
    {
     "name": "stderr",
     "output_type": "stream",
     "text": [
      "\n",
      "[notice] A new release of pip is available: 23.3.1 -> 24.2\n",
      "[notice] To update, run: python.exe -m pip install --upgrade pip\n"
     ]
    }
   ],
   "source": [
    "pip install nbformat==5.10.4"
   ]
  },
  {
   "cell_type": "code",
   "execution_count": 38,
   "metadata": {},
   "outputs": [],
   "source": [
    "# Adicionando as cores como variáveis do projeto\n",
    "VERMELHO_1, VERMELHO_2, VERMELHO_3 = \"#e23155\", \"#cc2c4e\", \"#b32742\"\n",
    "AZUL_1, AZUL_2, AZUL_3 = \"#203f75\", \"#1c3867\", \"#19325b\"\n",
    "BRANCO, CINZA_1, CINZA_2, CINZA_3, CINZA_4, CINZA_5 = \"#ffffff\", \"#ebebeb\", \"#d9d9d9\", \"#cccccc\", \"#555655\", \"#231f20\"\n",
    "AQUA_1, AQUA_2, AQUA_3 = \"#addcd4\", \"#9fccc5\", \"#96bfb9\"\n"
   ]
  },
  {
   "cell_type": "code",
   "execution_count": 42,
   "metadata": {},
   "outputs": [
    {
     "name": "stderr",
     "output_type": "stream",
     "text": [
      "C:\\Users\\dsadm\\AppData\\Local\\Temp\\ipykernel_25312\\2048669178.py:6: FutureWarning:\n",
      "\n",
      "Series.__getitem__ treating keys as positions is deprecated. In a future version, integer keys will always be treated as labels (consistent with DataFrame behavior). To access a value by position, use `ser.iloc[pos]`\n",
      "\n"
     ]
    },
    {
     "data": {
      "image/png": "[encoded data removed]",
      "text/plain": [
       "<Figure size 1000x600 with 1 Axes>"
      ]
     },
     "metadata": {},
     "output_type": "display_data"
    }
   ],
   "source": [
    "# Agrupar por método de pagamento e contar o total de ocorrências \n",
    "metodos_de_pagamento = df['metodo_pagamento'].value_counts()\n",
    "\n",
    "# Calcular percentual\n",
    "total_clientes = metodos_de_pagamento.sum()\n",
    "percentual = (metodos_de_pagamento[0] + metodos_de_pagamento[1]) / total_clientes * 100\n",
    "\n",
    "# Configurações do gráfico\n",
    "plt.figure(figsize=(10, 6), facecolor=CINZA_1)\n",
    "ax = plt.axes()\n",
    "ax.set_facecolor(CINZA_1)\n",
    "plt.bar(metodos_de_pagamento.index, metodos_de_pagamento, color=VERMELHO_1)\n",
    "\n",
    "# Adicionar texto com o total acima de cada barra\n",
    "for i, v in enumerate(metodos_de_pagamento):\n",
    "    plt.text(i, v + 0.1, str(v), ha='center', va='bottom', color=AZUL_1, fontsize=12)\n",
    "        \n",
    "# Adicionar texto dentro da área do plot\n",
    "plt.text(2, 2500, f\"$\\\\bf{percentual:.2f}$% dos clientes utilizam Cartão de Crédito ou PIX para pagamento. \"\n",
    "                  \"Seria interessante recorrer a parcerias com bancos para a construção de um Zoop Pay a fim de fidelizar a nossa clientela.\",\n",
    "         ha='left', va='center', color=AZUL_3, fontsize=10)\n",
    "\n",
    "# Configurações adicionais\n",
    "plt.title('Métodos de Pagamentos mais Utilizados em 2023', fontsize=18, color=CINZA_5) \n",
    "plt.xticks(fontsize=12, color=AZUL_1)\n",
    "plt.yticks([])\n",
    "plt.xlabel('Método de Pagamento', fontsize=12, color=AZUL_1)\n",
    "ax.spines[['top', 'right', 'left']].set_visible(False)\n",
    "\n",
    "plt.show()"
   ]
  },
  {
   "cell_type": "code",
   "execution_count": 43,
   "metadata": {},
   "outputs": [
    {
     "data": {
      "image/png": "[encoded data removed]",
      "text/plain": [
       "<Figure size 1200x800 with 1 Axes>"
      ]
     },
     "metadata": {},
     "output_type": "display_data"
    }
   ],
   "source": [
    "# Contagem de valores dos métodos de pagamento\n",
    "metodos_de_pagamento = df['metodo_pagamento'].value_counts()\n",
    "metodo_mais_utilizado = metodos_de_pagamento.idxmax()\n",
    "cores = ['honeydew'] * len(metodos_de_pagamento)\n",
    "cores[metodos_de_pagamento.index.get_loc(metodo_mais_utilizado)] = 'seagreen'\n",
    "\n",
    "# Criação do gráfico\n",
    "plt.figure(figsize=(12, 8))\n",
    "plt.bar(metodos_de_pagamento.index, metodos_de_pagamento.values, color=cores)\n",
    "\n",
    "# Adicionando o título antes dos valores\n",
    "plt.title('Métodos de pagamentos mais utilizados no 2º semestre de 2023', fontsize=14,\n",
    "           weight='bold', pad=30)\n",
    "\n",
    "# Adicionando os valores diretamente sobre as barras\n",
    "for i, valor in enumerate(metodos_de_pagamento.values):\n",
    "    plt.text(i, valor + 20, str(valor), ha='center', fontsize=12, weight='bold' if valor == metodos_de_pagamento.max() else 'normal')\n",
    "\n",
    "# Personalizando o gráfico\n",
    "plt.xticks(fontsize=12)\n",
    "plt.yticks([])\n",
    "plt.ylim(0, metodos_de_pagamento.max() + 20)  # Deixar um espaço acima do maior valor\n",
    "plt.xlabel('')\n",
    "plt.ylabel('')\n",
    "plt.gca().spines[['top', 'right','left', 'bottom']].set_visible(False)\n",
    "\n",
    "# Exibindo o gráfico\n",
    "plt.show()"
   ]
  },
  {
   "cell_type": "code",
   "execution_count": null,
   "metadata": {},
   "outputs": [],
   "source": [
    "#agrupar por categoria e calcular faturamento total\n",
    "faturamento_por_categoria = df.groupby('categoria')['faturamento'].sum().sort_values(ascending=False)\n",
    "\n",
    "#calcular percentual\n",
    "total_faturamento = faturamento_por_categoria.sum()\n",
    "percentual = faturamento_por_categoria.iloc[0] / total_faturamento * 100\n",
    "\n",
    "#configurações do gráfico\n",
    "\n",
    "plt.figure(figsize=10,6),facecolor=CINZA_1)\n",
    "ax = plt.axes()\n",
    "ax.set_facecolor(CINZA_1)\n",
    "bars = plt.barh(   faturamento_por_categoria.index,faturamento_por_categoria, color=AQUA_1)\n",
    "\n",
    "#Adicionar rotulos e titulo\n",
    "\n",
    "plt.title('Faturamento por Categoria de Produto em 2023', fontsize=18 , pad= 30,color = CINZA_5)\n",
    "plt.xlabel('')\n",
    "plt.ylabel('')\n",
    "plt.yticks(fontsize=12,color=AZUL_1)\n",
    "plt.xticks([])\n",
    "ax.spines(['top','right','left','bottom'].set_visible(False))\n",
    "\n"
   ]
  }
 ],
 "metadata": {
  "kernelspec": {
   "display_name": "Python 3",
   "language": "python",
   "name": "python3"
  },
  "language_info": {
   "codemirror_mode": {
    "name": "ipython",
    "version": 3
   },
   "file_extension": ".py",
   "mimetype": "text/x-python",
   "name": "python",
   "nbconvert_exporter": "python",
   "pygments_lexer": "ipython3",
   "version": "3.12.0"
  }
 },
 "nbformat": 4,
 "nbformat_minor": 2
}
