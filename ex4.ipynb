{
 "cells": [
  {
   "cell_type": "code",
   "execution_count": null,
   "metadata": {},
   "outputs": [],
   "source": [
    "import pandas as pd\n",
    "import matplotlib.pyplot as plt"
   ]
  },
  {
   "cell_type": "code",
   "execution_count": null,
   "metadata": {},
   "outputs": [],
   "source": [
    "dados1 = {\n",
    "    \"Data\":[\"01-01-2023\",\"01-02-2023\",\"01-03-2023\"],\n",
    "    \"Produto\":[\"Item A\",\"Item B\",\"Item A\"],\n",
    "    \n",
    "    \"Quantidade\":[10,5,8],\n",
    "    \"Valor\":[100.00,50.00,80.00]\n",
    "}\n",
    "dados2 = {\n",
    "    \"Data\":[\"01-02-2023\",\"02-02-2023\",\"03-02-2023\"],\n",
    "    \"Produto\":[\"Item C\",\"Item B\",\"Item D\"],\n",
    "    \n",
    "    \"Quantidade\":[12,6,3],\n",
    "    \"Valor\":[120.00,60.00,30.00]\n",
    "}\n",
    "Label = [1,2,3]"
   ]
  },
  {
   "cell_type": "code",
   "execution_count": null,
   "metadata": {},
   "outputs": [],
   "source": [
    "df1 = pd.DataFrame(dados1)\n",
    "df2 = pd.DataFrame(dados2)"
   ]
  },
  {
   "cell_type": "code",
   "execution_count": null,
   "metadata": {},
   "outputs": [],
   "source": [
    "df1.head()\n"
   ]
  },
  {
   "cell_type": "code",
   "execution_count": null,
   "metadata": {},
   "outputs": [],
   "source": [
    "df2.head()"
   ]
  }
 ],
 "metadata": {
  "language_info": {
   "name": "python"
  }
 },
 "nbformat": 4,
 "nbformat_minor": 2
}
